{
 "cells": [
  {
   "attachments": {},
   "cell_type": "markdown",
   "metadata": {},
   "source": [
    "## Unzip The Raw Data"
   ]
  },
  {
   "cell_type": "code",
   "execution_count": 3,
   "metadata": {},
   "outputs": [],
   "source": [
    "!./unzip.sh UCI_HAR_Dataset.zip 2>&1 > /dev/null"
   ]
  },
  {
   "attachments": {},
   "cell_type": "markdown",
   "metadata": {},
   "source": [
    "## Building The Dataset"
   ]
  },
  {
   "cell_type": "code",
   "execution_count": null,
   "metadata": {},
   "outputs": [],
   "source": [
    "import numpy as np\n",
    "import glob\n",
    "import os\n",
    "\n",
    "def get_one_hot(targets, nb_classes):\n",
    "    res = np.eye(nb_classes)[np.array(targets).reshape(-1)]\n",
    "    return res.reshape(list(targets.shape)+[nb_classes])\n",
    "\n",
    "def load_y(subset):\n",
    "    # Get the path\n",
    "    path = f'UCI_HAR_Dataset/UCI_HAR_Dataset/{subset}/y_{subset}.txt'\n",
    "\n",
    "    # Read the file\n",
    "    y = np.loadtxt(path, delimiter=',', dtype=int)\n",
    "\n",
    "\n",
    "\n",
    "\n",
    "\n",
    "\n",
    "\n",
    "\n",
    "\n",
    "xs\n",
    "\n",
    "\n",
    "\n",
    "\n",
    "\n",
    "\n",
    "\n",
    "\n",
    "\n",
    "\n",
    "\n",
    "    # # One-hot encode labels\n",
    "    one_hot_labels = get_one_hot(y - 1 , len(np.unique(y)))\n",
    "    \n",
    "    assert one_hot_labels.shape == (7352, 6), f\"Wrong dimensions: {one_hot_labels.shape} should be (7352, 6)\"\n",
    "    assert y[0] - 1 == np.where(one_hot_labels[0] == np.max(one_hot_labels[0]))[0][0], f\"Value mismatch {np.max(one_hot_labels[0])[0][0]} vs {y[13] - 1}\"\n",
    "    return one_hot_labels\n",
    "\n",
    "def load_data():\n",
    "    return build_data('train'), load_y('train'), build_data('test'), load_y('test')\n",
    "\n",
    "def build_data(subset):\n",
    "\n",
    "    if subset not in ['train', 'val', 'test']:\n",
    "        throw_error(f\"Invalid subset: {subset}\")\n",
    "\n",
    "    folder_path = f\"UCI_HAR_Dataset/UCI_HAR_Dataset/{subset}/Inertial tSignals/\"\n",
    "    # Get all signal files in folder\n",
    "    signal_files = glob.glob(os.path.join(folder_path, '*.txt'))\n",
    "\n",
    "    assert len(signal_files) > 0, f\"No signal files found in {folder_path}\"\n",
    "\n",
    "    signal_shape = np.loadtxt(signal_files[0]).shape\n",
    "    print(signal_shape)\n",
    "    exit()\n",
    "\n",
    "    # Determine signal order based on file names\n",
    "    signal_order = [\n",
    "        \"body_acc_x_\",\n",
    "        \"body_acc_y_\",\n",
    "        \"body_acc_z_\",\n",
    "        \"body_gyro_x_\",\n",
    "        \"body_gyro_y_\",\n",
    "        \"body_gyro_z_\",\n",
    "        \"total_acc_x_\",\n",
    "        \"total_acc_y_\",\n",
    "        \"total_acc_z_\",\n",
    "        ]\n",
    "\n",
    "    signal_order = [lambda x: x + f\"{subset}.txt\" for x in signal_order]\n",
    "\n",
    "    # Initialize empty array\n",
    "    combined_data = np.empty((7000, 128, len(signal_files)))\n",
    "\n",
    "    for i, signal_file in enumerate(signal_order):\n",
    "        if signal_file not in signal_files:\n",
    "            throw_error(f\"File not found: {signal_file}\")\n",
    "\n",
    "        # Load data from file into temporary array\n",
    "        signal_data = np.loadtxt(signal_file)\n",
    "\n",
    "        # Interleave data from temporary array into combined array\n",
    "        combined_data[:, :, i%9] = signal_data  # i%9 ensures interleaving within range of 0 to 8\n",
    "        combined_data[:, :, i%9 + 9] = signal_data  # interleaved copy\n",
    "\n",
    "    # Remove extra interleaved copies\n",
    "    combined_data = combined_data[:, :, :9]\n",
    "\n",
    "    # Verify final shape of combined data\n",
    "    # Resultant shape is (7352 train/2947 test samples, 128 timesteps, 9 signals)\n",
    "    if subset == 'train':\n",
    "        assert combined_data.shape == (7352, 128, len(signal_files))\n",
    "    else:\n",
    "        assert combined_data.shape == (2947, 128, len(signal_files))\n",
    "    return combined_data\n",
    "\n",
    "X_train, y_train, X_test, y_test = load_data()"
   ]
  }
 ],
 "metadata": {
  "kernelspec": {
   "display_name": "Python 3",
   "language": "python",
   "name": "python3"
  },
  "language_info": {
   "codemirror_mode": {
    "name": "ipython",
    "version": 3
   },
   "file_extension": ".py",
   "mimetype": "text/x-python",
   "name": "python",
   "nbconvert_exporter": "python",
   "pygments_lexer": "ipython3",
   "version": "3.6.15"
  },
  "orig_nbformat": 4,
  "vscode": {
   "interpreter": {
    "hash": "767f65abfc225a93d300366d933b501344c7257b645c776f0a53861572b8c79f"
   }
  }
 },
 "nbformat": 4,
 "nbformat_minor": 2
}
