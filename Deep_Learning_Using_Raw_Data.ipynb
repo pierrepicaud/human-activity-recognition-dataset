{
 "cells": [
  {
   "attachments": {},
   "cell_type": "markdown",
   "metadata": {},
   "source": [
    "## Unzip The Raw Data"
   ]
  },
  {
   "cell_type": "code",
   "execution_count": 4,
   "metadata": {},
   "outputs": [],
   "source": [
    "!./unzip.sh UCI_HAR_Dataset.zip 2>&1 > /dev/null"
   ]
  },
  {
   "cell_type": "code",
   "execution_count": 5,
   "metadata": {},
   "outputs": [
    {
     "name": "stdout",
     "output_type": "stream",
     "text": [
      "2.11.0\n"
     ]
    }
   ],
   "source": [
    "import tensorflow as tf\n",
    "print(tf.__version__)"
   ]
  },
  {
   "attachments": {},
   "cell_type": "markdown",
   "metadata": {},
   "source": [
    "## Building The Dataset"
   ]
  },
  {
   "cell_type": "code",
   "execution_count": 6,
   "metadata": {},
   "outputs": [],
   "source": [
    "import tensorflow.keras as keras\n",
    "from tensorflow.keras.models import Sequential\n",
    "from tensorflow.keras.layers import LSTM, Dense, Dropout, BatchNormalization\n",
    "from tensorflow.keras.regularizers import L1L2\n",
    "import numpy as np\n",
    "import glob\n",
    "import os\n",
    "\n",
    "def get_one_hot(targets, nb_classes):\n",
    "    res = np.eye(nb_classes)[np.array(targets).reshape(-1)]\n",
    "    return res.reshape(list(targets.shape)+[nb_classes])\n",
    "\n",
    "def load_y(subset):\n",
    "    # Get the path\n",
    "    path = f'UCI_HAR_Dataset/UCI_HAR_Dataset/{subset}/y_{subset}.txt'\n",
    "\n",
    "    # Read the file\n",
    "    y = np.loadtxt(path, delimiter=',', dtype=int)\n",
    "\n",
    "    # # One-hot encode labels\n",
    "    one_hot_labels = get_one_hot(y - 1 , len(np.unique(y)))\n",
    "    if subset == 'train':\n",
    "        assert one_hot_labels.shape == (7352, 6), f\"Wrong dimensions: {one_hot_labels.shape} should be (7352, 6)\"\n",
    "    if subset == 'test':\n",
    "        assert one_hot_labels.shape == (2947, 6), f\"Wrong dimensions: {one_hot_labels.shape} should be (2947, 6)\"\n",
    "    assert y[0] - 1 == np.where(one_hot_labels[0] == np.max(one_hot_labels[0]))[0][0], f\"Value mismatch {np.max(one_hot_labels[0])[0][0]} vs {y[13] - 1}\"\n",
    "    return one_hot_labels\n",
    "\n",
    "def build_data(subset):\n",
    "    if subset not in ['train', 'val', 'test']:\n",
    "        raise Exception(f\"Invalid subset: {subset}\")\n",
    "\n",
    "    folder_path = f\"UCI_HAR_Dataset/UCI_HAR_Dataset/{subset}/Inertial Signals/\"\n",
    "\n",
    "    # Get all signal files in folder\n",
    "    signal_files = glob.glob(os.path.join(folder_path, '*.txt'))\n",
    "    # print(signal_files)\n",
    "\n",
    "    assert len(signal_files) == 9, f\"No signal files found in {folder_path}\"\n",
    "    signal_shape = np.loadtxt(signal_files[0]).shape\n",
    "    # print(f\"{signal_shape}\")\n",
    "\n",
    "    # Determine signal order based on file names\n",
    "    signal_order = [\n",
    "        \"body_acc_x_\",\n",
    "        \"body_acc_y_\",\n",
    "        \"body_acc_z_\",\n",
    "        \"body_gyro_x_\",\n",
    "        \"body_gyro_y_\",\n",
    "        \"body_gyro_z_\",\n",
    "        \"total_acc_x_\",\n",
    "        \"total_acc_y_\",\n",
    "        \"total_acc_z_\",\n",
    "        ]\n",
    "\n",
    "    # file_prefix = \"UCI_HAR_Dataset/UCI_HAR_Dataset/train/Inertial Signals/\"\n",
    "    # file_suffix = \".txt\"\n",
    "    signal_files = [f\"UCI_HAR_Dataset/UCI_HAR_Dataset/{subset}/Inertial Signals/{x}{subset}.txt\" for x in signal_order]\n",
    "\n",
    "    # Load signal data from each file and append to signals_data list\n",
    "    signals_data = [np.loadtxt(x) for x in signal_files]\n",
    "\n",
    "    # Transpose signal data array so that shape is (number of samples, number of timesteps, number of signals)\n",
    "    signals_data = np.transpose(signals_data, (1, 2, 0))\n",
    "\n",
    "    # Verify final shape of combined data\n",
    "    # Resultant shape is (7352 train/2947 test samples, 128 timesteps, 9 signals)\n",
    "    if subset == 'train':\n",
    "        assert signals_data.shape == (7352, 128, len(signal_files))\n",
    "    else:\n",
    "        assert signals_data.shape == (2947, 128, len(signal_files))\n",
    "    return signals_data\n",
    "\n",
    "def load_data():\n",
    "    return build_data('train'), load_y('train'), build_data('test'), load_y('test')\n",
    "\n",
    "# Loading the train and test data\n",
    "X_train, y_train, X_test, y_test = load_data()"
   ]
  },
  {
   "cell_type": "code",
   "execution_count": 7,
   "metadata": {},
   "outputs": [],
   "source": [
    "first_sample = X_train[0]\n",
    "first_timestep = first_sample[0]\n",
    "assert len(first_sample) == 128\n",
    "assert first_timestep[0] == 1.8085150e-004, print(first_timestep[0])\n",
    "assert first_timestep[1] == 1.0766810e-002, print(first_timestep[1])"
   ]
  },
  {
   "cell_type": "code",
   "execution_count": 8,
   "metadata": {},
   "outputs": [
    {
     "name": "stdout",
     "output_type": "stream",
     "text": [
      "Timesteps: 128\n",
      "Input dimention: 9\n",
      "Total samples: 7352\n"
     ]
    }
   ],
   "source": [
    "#function to count the number of classes\n",
    "def count_classes(y):\n",
    "    return len(set([tuple(category) for category in y]))\n",
    "\n",
    "timesteps = len(X_train[0])\n",
    "input_dim = len(X_train[0][0])\n",
    "n_classes = count_classes(y_train)\n",
    "\n",
    "# Initializing parameters\n",
    "n_epochs = 30\n",
    "n_batch = 16\n",
    "\n",
    "# Bias regularizer value - we will use elasticnet\n",
    "regularizer = L1L2(0.01, 0.01)\n",
    "\n",
    "print(f\"Timesteps: {timesteps}\")\n",
    "print(f\"Input dimention: {input_dim}\")\n",
    "print(f\"Total samples: {len(X_train)}\")"
   ]
  },
  {
   "cell_type": "code",
   "execution_count": 9,
   "metadata": {},
   "outputs": [
    {
     "name": "stderr",
     "output_type": "stream",
     "text": [
      "2023-04-17 04:46:43.228332: I tensorflow/compiler/xla/stream_executor/cuda/cuda_gpu_executor.cc:981] successful NUMA node read from SysFS had negative value (-1), but there must be at least one NUMA node, so returning NUMA node zero\n",
      "2023-04-17 04:46:43.228627: W tensorflow/compiler/xla/stream_executor/platform/default/dso_loader.cc:64] Could not load dynamic library 'libcudart.so.11.0'; dlerror: libcudart.so.11.0: cannot open shared object file: No such file or directory\n",
      "2023-04-17 04:46:43.228786: W tensorflow/compiler/xla/stream_executor/platform/default/dso_loader.cc:64] Could not load dynamic library 'libcublas.so.11'; dlerror: libcublas.so.11: cannot open shared object file: No such file or directory\n",
      "2023-04-17 04:46:43.228834: W tensorflow/compiler/xla/stream_executor/platform/default/dso_loader.cc:64] Could not load dynamic library 'libcublasLt.so.11'; dlerror: libcublasLt.so.11: cannot open shared object file: No such file or directory\n",
      "2023-04-17 04:46:43.228978: W tensorflow/compiler/xla/stream_executor/platform/default/dso_loader.cc:64] Could not load dynamic library 'libcufft.so.10'; dlerror: libcufft.so.10: cannot open shared object file: No such file or directory\n",
      "2023-04-17 04:46:43.364261: W tensorflow/compiler/xla/stream_executor/platform/default/dso_loader.cc:64] Could not load dynamic library 'libcusparse.so.11'; dlerror: libcusparse.so.11: cannot open shared object file: No such file or directory\n",
      "2023-04-17 04:46:43.366482: W tensorflow/core/common_runtime/gpu/gpu_device.cc:1934] Cannot dlopen some GPU libraries. Please make sure the missing libraries mentioned above are installed properly if you would like to use GPU. Follow the guide at https://www.tensorflow.org/install/gpu for how to download and setup the required libraries for your platform.\n",
      "Skipping registering GPU devices...\n",
      "2023-04-17 04:46:43.371905: I tensorflow/core/platform/cpu_feature_guard.cc:193] This TensorFlow binary is optimized with oneAPI Deep Neural Network Library (oneDNN) to use the following CPU instructions in performance-critical operations:  AVX2 FMA\n",
      "To enable them in other operations, rebuild TensorFlow with the appropriate compiler flags.\n"
     ]
    },
    {
     "name": "stdout",
     "output_type": "stream",
     "text": [
      "Model: \"sequential\"\n",
      "_________________________________________________________________\n",
      " Layer (type)                Output Shape              Param #   \n",
      "=================================================================\n",
      " lstm (LSTM)                 (None, 128, 64)           18944     \n",
      "                                                                 \n",
      " batch_normalization (BatchN  (None, 128, 64)          256       \n",
      " ormalization)                                                   \n",
      "                                                                 \n",
      " dropout (Dropout)           (None, 128, 64)           0         \n",
      "                                                                 \n",
      " lstm_1 (LSTM)               (None, 48)                21696     \n",
      "                                                                 \n",
      " dropout_1 (Dropout)         (None, 48)                0         \n",
      "                                                                 \n",
      " dense (Dense)               (None, 6)                 294       \n",
      "                                                                 \n",
      "=================================================================\n",
      "Total params: 41,190\n",
      "Trainable params: 41,062\n",
      "Non-trainable params: 128\n",
      "_________________________________________________________________\n"
     ]
    }
   ],
   "source": [
    "# Model execution\n",
    "model = Sequential()\n",
    "model.add(LSTM(64, input_shape=(timesteps, input_dim), return_sequences=True, bias_regularizer=regularizer))\n",
    "model.add(BatchNormalization())\n",
    "model.add(Dropout(0.50))\n",
    "model.add(LSTM(48))\n",
    "model.add(Dropout(0.50))\n",
    "model.add(Dense(n_classes, activation='sigmoid'))\n",
    "model.summary()"
   ]
  },
  {
   "cell_type": "code",
   "execution_count": 10,
   "metadata": {},
   "outputs": [
    {
     "name": "stdout",
     "output_type": "stream",
     "text": [
      "Epoch 1/30\n"
     ]
    },
    {
     "name": "stderr",
     "output_type": "stream",
     "text": [
      "2023-04-17 04:46:44.141430: W tensorflow/tsl/framework/cpu_allocator_impl.cc:82] Allocation of 33878016 exceeds 10% of free system memory.\n"
     ]
    },
    {
     "name": "stdout",
     "output_type": "stream",
     "text": [
      "460/460 [==============================] - 27s 53ms/step - loss: 1.6630 - accuracy: 0.7184 - val_loss: 1.0917 - val_accuracy: 0.8249\n",
      "Epoch 2/30\n",
      "460/460 [==============================] - 23s 51ms/step - loss: 0.8161 - accuracy: 0.8751 - val_loss: 0.6250 - val_accuracy: 0.8839\n",
      "Epoch 3/30\n",
      "460/460 [==============================] - 24s 51ms/step - loss: 0.4051 - accuracy: 0.9212 - val_loss: 0.4531 - val_accuracy: 0.8656\n",
      "Epoch 4/30\n",
      "460/460 [==============================] - 24s 52ms/step - loss: 0.2207 - accuracy: 0.9332 - val_loss: 0.3624 - val_accuracy: 0.8812\n",
      "Epoch 5/30\n",
      "460/460 [==============================] - 24s 53ms/step - loss: 0.1836 - accuracy: 0.9342 - val_loss: 0.2159 - val_accuracy: 0.9226\n",
      "Epoch 6/30\n",
      "460/460 [==============================] - 24s 53ms/step - loss: 0.1523 - accuracy: 0.9407 - val_loss: 0.2678 - val_accuracy: 0.9050\n",
      "Epoch 7/30\n",
      "460/460 [==============================] - 24s 53ms/step - loss: 0.1530 - accuracy: 0.9422 - val_loss: 0.2692 - val_accuracy: 0.9240\n",
      "Epoch 8/30\n",
      "460/460 [==============================] - 23s 51ms/step - loss: 0.1466 - accuracy: 0.9455 - val_loss: 0.1983 - val_accuracy: 0.9376\n",
      "Epoch 9/30\n",
      "460/460 [==============================] - 25s 55ms/step - loss: 0.1605 - accuracy: 0.9395 - val_loss: 0.2073 - val_accuracy: 0.9192\n",
      "Epoch 10/30\n",
      "460/460 [==============================] - 27s 58ms/step - loss: 0.1884 - accuracy: 0.9328 - val_loss: 0.2255 - val_accuracy: 0.9216\n",
      "Epoch 11/30\n",
      "460/460 [==============================] - 28s 61ms/step - loss: 0.1501 - accuracy: 0.9441 - val_loss: 0.2658 - val_accuracy: 0.9128\n",
      "Epoch 12/30\n",
      "460/460 [==============================] - 23s 50ms/step - loss: 0.1839 - accuracy: 0.9332 - val_loss: 0.2718 - val_accuracy: 0.9155\n",
      "Epoch 13/30\n",
      "460/460 [==============================] - 25s 55ms/step - loss: 0.1479 - accuracy: 0.9416 - val_loss: 0.4277 - val_accuracy: 0.8833\n",
      "Epoch 14/30\n",
      "460/460 [==============================] - 24s 53ms/step - loss: 0.1582 - accuracy: 0.9410 - val_loss: 0.3434 - val_accuracy: 0.9063\n",
      "Epoch 15/30\n",
      "460/460 [==============================] - 25s 54ms/step - loss: 0.1424 - accuracy: 0.9460 - val_loss: 0.3025 - val_accuracy: 0.9087\n",
      "Epoch 16/30\n",
      "460/460 [==============================] - 25s 54ms/step - loss: 0.1464 - accuracy: 0.9468 - val_loss: 0.2674 - val_accuracy: 0.9223\n",
      "Epoch 17/30\n",
      "460/460 [==============================] - 24s 52ms/step - loss: 0.1407 - accuracy: 0.9426 - val_loss: 0.2683 - val_accuracy: 0.9186\n",
      "Epoch 18/30\n",
      "460/460 [==============================] - 25s 54ms/step - loss: 0.1383 - accuracy: 0.9431 - val_loss: 0.2408 - val_accuracy: 0.9165\n",
      "Epoch 19/30\n",
      "460/460 [==============================] - 24s 52ms/step - loss: 0.1767 - accuracy: 0.9377 - val_loss: 0.4552 - val_accuracy: 0.8975\n",
      "Epoch 20/30\n",
      "460/460 [==============================] - 28s 61ms/step - loss: 0.1362 - accuracy: 0.9463 - val_loss: 0.3352 - val_accuracy: 0.8985\n",
      "Epoch 21/30\n",
      "460/460 [==============================] - 26s 57ms/step - loss: 0.1371 - accuracy: 0.9452 - val_loss: 0.2699 - val_accuracy: 0.9179\n",
      "Epoch 22/30\n",
      "460/460 [==============================] - 27s 59ms/step - loss: 0.1475 - accuracy: 0.9437 - val_loss: 0.2941 - val_accuracy: 0.9104\n",
      "Epoch 23/30\n",
      "460/460 [==============================] - 26s 56ms/step - loss: 0.1223 - accuracy: 0.9525 - val_loss: 0.2676 - val_accuracy: 0.9240\n",
      "Epoch 24/30\n",
      "460/460 [==============================] - 26s 57ms/step - loss: 0.1411 - accuracy: 0.9437 - val_loss: 0.2848 - val_accuracy: 0.9148\n",
      "Epoch 25/30\n",
      "460/460 [==============================] - 26s 57ms/step - loss: 0.1260 - accuracy: 0.9472 - val_loss: 0.2578 - val_accuracy: 0.9270\n",
      "Epoch 26/30\n",
      "460/460 [==============================] - 28s 61ms/step - loss: 0.1261 - accuracy: 0.9497 - val_loss: 0.3066 - val_accuracy: 0.9223\n",
      "Epoch 27/30\n",
      "460/460 [==============================] - 206s 449ms/step - loss: 0.1410 - accuracy: 0.9470 - val_loss: 0.3011 - val_accuracy: 0.9111\n",
      "Epoch 28/30\n",
      "460/460 [==============================] - 25s 54ms/step - loss: 0.1629 - accuracy: 0.9411 - val_loss: 0.2417 - val_accuracy: 0.9230\n",
      "Epoch 29/30\n",
      "460/460 [==============================] - 39s 84ms/step - loss: 0.1299 - accuracy: 0.9494 - val_loss: 0.2425 - val_accuracy: 0.9121\n",
      "Epoch 30/30\n",
      "460/460 [==============================] - 29s 64ms/step - loss: 0.1274 - accuracy: 0.9497 - val_loss: 0.2399 - val_accuracy: 0.9199\n"
     ]
    },
    {
     "data": {
      "text/plain": [
       "<keras.callbacks.History at 0x7f54c59a0ac0>"
      ]
     },
     "execution_count": 10,
     "metadata": {},
     "output_type": "execute_result"
    }
   ],
   "source": [
    "model.compile(loss='categorical_crossentropy', optimizer='adam', metrics=['accuracy'])\n",
    "# Training the model\n",
    "model.fit(X_train, y_train, batch_size=n_batch, validation_data=(X_test, y_test), epochs=n_epochs)"
   ]
  },
  {
   "cell_type": "code",
   "execution_count": 12,
   "metadata": {},
   "outputs": [
    {
     "name": "stderr",
     "output_type": "stream",
     "text": [
      "WARNING:absl:Found untraced functions such as _update_step_xla, lstm_cell_layer_call_fn, lstm_cell_layer_call_and_return_conditional_losses, lstm_cell_1_layer_call_fn, lstm_cell_1_layer_call_and_return_conditional_losses while saving (showing 5 of 5). These functions will not be directly callable after loading.\n"
     ]
    },
    {
     "name": "stdout",
     "output_type": "stream",
     "text": [
      "INFO:tensorflow:Assets written to: /tmp/tmp3zmbhavp/assets\n"
     ]
    },
    {
     "name": "stderr",
     "output_type": "stream",
     "text": [
      "INFO:tensorflow:Assets written to: /tmp/tmp3zmbhavp/assets\n",
      "2023-04-17 05:10:21.614991: W tensorflow/compiler/mlir/lite/python/tf_tfl_flatbuffer_helpers.cc:362] Ignored output_format.\n",
      "2023-04-17 05:10:21.615026: W tensorflow/compiler/mlir/lite/python/tf_tfl_flatbuffer_helpers.cc:365] Ignored drop_control_dependency.\n",
      "2023-04-17 05:10:21.616477: I tensorflow/cc/saved_model/reader.cc:45] Reading SavedModel from: /tmp/tmp3zmbhavp\n",
      "2023-04-17 05:10:21.625871: I tensorflow/cc/saved_model/reader.cc:89] Reading meta graph with tags { serve }\n",
      "2023-04-17 05:10:21.626142: I tensorflow/cc/saved_model/reader.cc:130] Reading SavedModel debug info (if present) from: /tmp/tmp3zmbhavp\n",
      "2023-04-17 05:10:21.704403: I tensorflow/cc/saved_model/loader.cc:229] Restoring SavedModel bundle.\n",
      "2023-04-17 05:10:21.849580: I tensorflow/cc/saved_model/loader.cc:213] Running initialization op on SavedModel bundle at path: /tmp/tmp3zmbhavp\n",
      "2023-04-17 05:10:21.936875: I tensorflow/cc/saved_model/loader.cc:305] SavedModel load for tags { serve }; Status: success: OK. Took 320393 microseconds.\n",
      "2023-04-17 05:10:22.396413: W tensorflow/compiler/mlir/lite/flatbuffer_export.cc:2046] TFLite interpreter needs to link Flex delegate in order to run the model since it contains the following Select TFop(s):\n",
      "Flex ops: FlexTensorListReserve, FlexTensorListSetItem, FlexTensorListStack\n",
      "Details:\n",
      "\ttf.TensorListReserve(tensor<2xi32>, tensor<i32>) -> (tensor<!tf_type.variant<tensor<?x48xf32>>>) : {device = \"\"}\n",
      "\ttf.TensorListReserve(tensor<2xi32>, tensor<i32>) -> (tensor<!tf_type.variant<tensor<?x64xf32>>>) : {device = \"\"}\n",
      "\ttf.TensorListSetItem(tensor<!tf_type.variant<tensor<?x48xf32>>>, tensor<i32>, tensor<?x48xf32>) -> (tensor<!tf_type.variant<tensor<?x48xf32>>>) : {device = \"\"}\n",
      "\ttf.TensorListSetItem(tensor<!tf_type.variant<tensor<?x64xf32>>>, tensor<i32>, tensor<?x64xf32>) -> (tensor<!tf_type.variant<tensor<?x64xf32>>>) : {device = \"\"}\n",
      "\ttf.TensorListStack(tensor<!tf_type.variant<tensor<?x48xf32>>>, tensor<2xi32>) -> (tensor<1x?x48xf32>) : {device = \"\", num_elements = 1 : i64}\n",
      "\ttf.TensorListStack(tensor<!tf_type.variant<tensor<?x64xf32>>>, tensor<2xi32>) -> (tensor<?x?x64xf32>) : {device = \"\", num_elements = -1 : i64}\n",
      "See instructions: https://www.tensorflow.org/lite/guide/ops_select\n"
     ]
    }
   ],
   "source": [
    "# Save model(s) for development purposes\n",
    "import tensorflow as tf\n",
    "\n",
    "# create a TFLiteConverter object\n",
    "converter = tf.lite.TFLiteConverter.from_keras_model(model)\n",
    "\n",
    "# set the target ops to TFLITE_BUILTINS and SELECT_TF_OPS\n",
    "converter.target_spec.supported_ops = [tf.lite.OpsSet.TFLITE_BUILTINS, tf.lite.OpsSet.SELECT_TF_OPS]\n",
    "\n",
    "# disable lowering tensor list operations\n",
    "converter._experimental_lower_tensor_list_ops = False\n",
    "\n",
    "# convert the model to TFLite format\n",
    "tflite_model = converter.convert()\n",
    "\n",
    "# save the TFLite model to a file\n",
    "with open('./assets/model_lstm.tflite', 'wb') as f:\n",
    "    f.write(tflite_model)"
   ]
  }
 ],
 "metadata": {
  "kernelspec": {
   "display_name": "base",
   "language": "python",
   "name": "python3"
  },
  "language_info": {
   "codemirror_mode": {
    "name": "ipython",
    "version": 3
   },
   "file_extension": ".py",
   "mimetype": "text/x-python",
   "name": "python",
   "nbconvert_exporter": "python",
   "pygments_lexer": "ipython3",
   "version": "3.10.9"
  },
  "orig_nbformat": 4,
  "vscode": {
   "interpreter": {
    "hash": "4d37fff4659cf8a883ce3d6c1246076e30e33dc297d4df960d23d9670e4eb60f"
   }
  }
 },
 "nbformat": 4,
 "nbformat_minor": 2
}
